{
 "cells": [
  {
   "cell_type": "markdown",
   "metadata": {},
   "source": [
    "# Lab 12: Data Analysis. Part 2\n",
    "## bike-stats dataset (including station,weather,trip datasets)\n",
    "## Date : 31/8/2020\n",
    "## Osama Yousef\n",
    "\n"
   ]
  },
  {
   "cell_type": "code",
   "execution_count": 2,
   "metadata": {},
   "outputs": [],
   "source": [
    "## adding necessary lines\n",
    "import pandas as pd\n",
    "import numpy as np\n",
    "import datetime as dt\n"
   ]
  },
  {
   "cell_type": "markdown",
   "metadata": {},
   "source": [
    "## What is the average trip duration for a borrowed bicycle?\n"
   ]
  },
  {
   "cell_type": "markdown",
   "metadata": {},
   "source": [
    "### avg trip duration in seconds"
   ]
  },
  {
   "cell_type": "code",
   "execution_count": 7,
   "metadata": {
    "tags": []
   },
   "outputs": [
    {
     "output_type": "stream",
     "name": "stderr",
     "text": "b'Skipping line 50794: expected 12 fields, saw 20\\n'\n"
    },
    {
     "output_type": "execute_result",
     "data": {
      "text/plain": "1178.2956753399776"
     },
     "metadata": {},
     "execution_count": 7
    }
   ],
   "source": [
    "station = pd.read_csv('station.csv')\n",
    "trip = pd.read_csv('trip.csv', error_bad_lines=False)\n",
    "weather = pd.read_csv('weather.csv')\n",
    "trip['tripduration'].mean()\n"
   ]
  },
  {
   "cell_type": "markdown",
   "metadata": {},
   "source": [
    "### avg trip duration in minutes"
   ]
  },
  {
   "cell_type": "code",
   "execution_count": 8,
   "metadata": {
    "tags": []
   },
   "outputs": [
    {
     "output_type": "stream",
     "name": "stderr",
     "text": "b'Skipping line 50794: expected 12 fields, saw 20\\n'\n"
    },
    {
     "output_type": "execute_result",
     "data": {
      "text/plain": "19.0"
     },
     "metadata": {},
     "execution_count": 8
    }
   ],
   "source": [
    " station = pd.read_csv('station.csv')\n",
    " trip = pd.read_csv('trip.csv', error_bad_lines=False)\n",
    " weather = pd.read_csv('weather.csv')\n",
    " avg_duration = trip.tripduration.mean() // 60\n",
    " avg_duration"
   ]
  },
  {
   "cell_type": "markdown",
   "metadata": {},
   "source": [
    "## What’s the most common age of a bicycle-sharer?\n"
   ]
  },
  {
   "cell_type": "code",
   "execution_count": 2,
   "metadata": {
    "tags": []
   },
   "outputs": [
    {
     "output_type": "stream",
     "name": "stderr",
     "text": "b'Skipping line 50794: expected 12 fields, saw 20\\n'\nThe most common age is 33.0 years old\n"
    }
   ],
   "source": [
    "\n",
    "trip = pd.read_csv('trip.csv', error_bad_lines=False)\n",
    "ages = dt.datetime.now().year - trip['birthyear'].value_counts().idxmax()\n",
    "print(f'The most common age is {ages} years old')\n"
   ]
  },
  {
   "cell_type": "markdown",
   "metadata": {},
   "source": [
    "## other solution"
   ]
  },
  {
   "cell_type": "code",
   "execution_count": 50,
   "metadata": {},
   "outputs": [
    {
     "data": {
      "text/html": [
       "<div>\n",
       "<style scoped>\n",
       "    .dataframe tbody tr th:only-of-type {\n",
       "        vertical-align: middle;\n",
       "    }\n",
       "\n",
       "    .dataframe tbody tr th {\n",
       "        vertical-align: top;\n",
       "    }\n",
       "\n",
       "    .dataframe thead th {\n",
       "        text-align: right;\n",
       "    }\n",
       "</style>\n",
       "<table border=\"1\" class=\"dataframe\">\n",
       "  <thead>\n",
       "    <tr style=\"text-align: right;\">\n",
       "      <th></th>\n",
       "      <th>birthyear</th>\n",
       "    </tr>\n",
       "  </thead>\n",
       "  <tbody>\n",
       "    <tr>\n",
       "      <th>0</th>\n",
       "      <td>33.0</td>\n",
       "    </tr>\n",
       "  </tbody>\n",
       "</table>\n",
       "</div>"
      ],
      "text/plain": [
       "   birthyear\n",
       "0       33.0"
      ]
     },
     "execution_count": 50,
     "metadata": {},
     "output_type": "execute_result"
    }
   ],
   "source": [
    "year = trip[['birthyear']].mode()\n",
    "2020 - year"
   ]
  },
  {
   "cell_type": "markdown",
   "metadata": {},
   "source": [
    "## Given all the weather data here, find the average precipitation per month, and the median precipitation.\n"
   ]
  },
  {
   "cell_type": "code",
   "execution_count": 52,
   "metadata": {},
   "outputs": [
    {
     "name": "stdout",
     "output_type": "stream",
     "text": [
      "Average precipitation is about 0.11 inches\n",
      "Median precipitation is 0.0 inches\n"
     ]
    }
   ],
   "source": [
    "\n",
    "average_precip = weather.Precipitation_In.mean()\n",
    "print(f'Average precipitation is about {round(average_precip, 2)} inches')\n",
    "## assuming the values are in months\n",
    "median_precip = weather.Precipitation_In.median()\n",
    "print(f'Median precipitation is {median_precip} inches')"
   ]
  },
  {
   "cell_type": "markdown",
   "metadata": {},
   "source": [
    "### in the above we got 0.11 inches which is the daily average \n",
    "### assuming that each month is 30 days\n",
    "### So average monthly is 30 * 0.11 = 3.3 inches per month"
   ]
  },
  {
   "cell_type": "markdown",
   "metadata": {},
   "source": [
    "# What’s the average number of bikes at a given bike station?\n"
   ]
  },
  {
   "cell_type": "code",
   "execution_count": 53,
   "metadata": {},
   "outputs": [
    {
     "name": "stdout",
     "output_type": "stream",
     "text": [
      "The average number of bikes at a given station is about 17\n"
     ]
    }
   ],
   "source": [
    "\n",
    "average_bikes = station.current_dockcount.mean()\n",
    "print(f'The average number of bikes at a given station is about {round(average_bikes)}')\n",
    "\n"
   ]
  },
  {
   "cell_type": "markdown",
   "metadata": {},
   "source": [
    "## When a bike station is modified, is it more likely that it’ll lose bikes or gain bikes? How do you know?\n"
   ]
  },
  {
   "cell_type": "code",
   "execution_count": 54,
   "metadata": {},
   "outputs": [
    {
     "name": "stdout",
     "output_type": "stream",
     "text": [
      "17 of stations were modified\n",
      "10 of modified stations had less bikes after being modified\n"
     ]
    },
    {
     "name": "stderr",
     "output_type": "stream",
     "text": [
      "<ipython-input-54-8c492585fcbc>:2: UserWarning: Boolean Series key will be reindexed to match DataFrame index.\n",
      "  modified_stations_less_bikes = modified_stations[station.install_dockcount >= station.current_dockcount]\n"
     ]
    }
   ],
   "source": [
    "\n",
    "modified_stations = station[station.modification_date.notnull()]\n",
    "modified_stations_less_bikes = modified_stations[station.install_dockcount >= station.current_dockcount]\n",
    "modified_stations_less_bikes_count = modified_stations_less_bikes.count().station_id\n",
    "modified_stations_count = modified_stations.count().station_id\n",
    "print(f'{modified_stations_count} of stations were modified')\n",
    "print(f'{modified_stations_less_bikes_count} of modified stations had less bikes after being modified')\n"
   ]
  },
  {
   "cell_type": "markdown",
   "metadata": {},
   "source": [
    "#### other solution\n",
    "### calculating the avg of decreasing in bikes after modification"
   ]
  },
  {
   "cell_type": "code",
   "execution_count": 42,
   "metadata": {},
   "outputs": [
    {
     "data": {
      "text/plain": [
       "-1.6380952380952376"
      ]
     },
     "execution_count": 42,
     "metadata": {},
     "output_type": "execute_result"
    }
   ],
   "source": [
    "temp_old = station.sort_values('modification_date',  ascending= False)['current_dockcount'].tail(42)\n",
    "temp_new = station.sort_values('modification_date',  ascending= False)['current_dockcount'].head(15)\n",
    "new = temp_new.mean()\n",
    "old = temp_old.mean()\n",
    "new - old"
   ]
  },
  {
   "cell_type": "markdown",
   "metadata": {},
   "source": [
    "## 3 Questions from us"
   ]
  },
  {
   "cell_type": "markdown",
   "metadata": {},
   "source": [
    "## What is the most common starting station?\n"
   ]
  },
  {
   "cell_type": "code",
   "execution_count": 28,
   "metadata": {},
   "outputs": [
    {
     "data": {
      "text/plain": [
       "from_station_name\n",
       "Pier 69 / Alaskan Way & Clay St    13054\n",
       "Name: from_station_name, dtype: int64"
      ]
     },
     "execution_count": 28,
     "metadata": {},
     "output_type": "execute_result"
    }
   ],
   "source": [
    "\n",
    "stations = trip.from_station_name.groupby(trip.from_station_name)\n",
    "highest_station = stations.count().nlargest(1)\n",
    "highest_station\n"
   ]
  },
  {
   "cell_type": "markdown",
   "metadata": {},
   "source": [
    "## Which station has the most bikes?\n"
   ]
  },
  {
   "cell_type": "code",
   "execution_count": 55,
   "metadata": {},
   "outputs": [
    {
     "data": {
      "text/html": [
       "<div>\n",
       "<style scoped>\n",
       "    .dataframe tbody tr th:only-of-type {\n",
       "        vertical-align: middle;\n",
       "    }\n",
       "\n",
       "    .dataframe tbody tr th {\n",
       "        vertical-align: top;\n",
       "    }\n",
       "\n",
       "    .dataframe thead th {\n",
       "        text-align: right;\n",
       "    }\n",
       "</style>\n",
       "<table border=\"1\" class=\"dataframe\">\n",
       "  <thead>\n",
       "    <tr style=\"text-align: right;\">\n",
       "      <th></th>\n",
       "      <th>station_id</th>\n",
       "      <th>name</th>\n",
       "      <th>lat</th>\n",
       "      <th>long</th>\n",
       "      <th>install_date</th>\n",
       "      <th>install_dockcount</th>\n",
       "      <th>modification_date</th>\n",
       "      <th>current_dockcount</th>\n",
       "      <th>decommission_date</th>\n",
       "    </tr>\n",
       "  </thead>\n",
       "  <tbody>\n",
       "    <tr>\n",
       "      <th>17</th>\n",
       "      <td>CH-08</td>\n",
       "      <td>Cal Anderson Park / 11th Ave &amp; Pine St</td>\n",
       "      <td>47.615486</td>\n",
       "      <td>-122.318245</td>\n",
       "      <td>10/13/2014</td>\n",
       "      <td>28</td>\n",
       "      <td>2/24/2015</td>\n",
       "      <td>26</td>\n",
       "      <td>NaN</td>\n",
       "    </tr>\n",
       "  </tbody>\n",
       "</table>\n",
       "</div>"
      ],
      "text/plain": [
       "   station_id                                    name        lat        long  \\\n",
       "17      CH-08  Cal Anderson Park / 11th Ave & Pine St  47.615486 -122.318245   \n",
       "\n",
       "   install_date  install_dockcount modification_date  current_dockcount  \\\n",
       "17   10/13/2014                 28         2/24/2015                 26   \n",
       "\n",
       "   decommission_date  \n",
       "17               NaN  "
      ]
     },
     "execution_count": 55,
     "metadata": {},
     "output_type": "execute_result"
    }
   ],
   "source": [
    "\n",
    "station_bikes = station.sort_values(by='current_dockcount', ascending=False).head(1)\n",
    "station_bikes\n"
   ]
  },
  {
   "cell_type": "markdown",
   "metadata": {},
   "source": [
    " ## What were the 5 longest trips?\n"
   ]
  },
  {
   "cell_type": "code",
   "execution_count": 32,
   "metadata": {},
   "outputs": [
    {
     "data": {
      "text/html": [
       "<div>\n",
       "<style scoped>\n",
       "    .dataframe tbody tr th:only-of-type {\n",
       "        vertical-align: middle;\n",
       "    }\n",
       "\n",
       "    .dataframe tbody tr th {\n",
       "        vertical-align: top;\n",
       "    }\n",
       "\n",
       "    .dataframe thead th {\n",
       "        text-align: right;\n",
       "    }\n",
       "</style>\n",
       "<table border=\"1\" class=\"dataframe\">\n",
       "  <thead>\n",
       "    <tr style=\"text-align: right;\">\n",
       "      <th></th>\n",
       "      <th>trip_id</th>\n",
       "      <th>starttime</th>\n",
       "      <th>stoptime</th>\n",
       "      <th>bikeid</th>\n",
       "      <th>tripduration</th>\n",
       "      <th>from_station_name</th>\n",
       "      <th>to_station_name</th>\n",
       "      <th>from_station_id</th>\n",
       "      <th>to_station_id</th>\n",
       "      <th>usertype</th>\n",
       "      <th>gender</th>\n",
       "      <th>birthyear</th>\n",
       "    </tr>\n",
       "  </thead>\n",
       "  <tbody>\n",
       "    <tr>\n",
       "      <th>163148</th>\n",
       "      <td>124491</td>\n",
       "      <td>8/7/2015 17:53</td>\n",
       "      <td>8/8/2015 1:53</td>\n",
       "      <td>SEA00420</td>\n",
       "      <td>28794.398</td>\n",
       "      <td>Eastlake Ave E &amp; E Allison St</td>\n",
       "      <td>2nd Ave &amp; Pine St</td>\n",
       "      <td>EL-05</td>\n",
       "      <td>CBD-13</td>\n",
       "      <td>Short-Term Pass Holder</td>\n",
       "      <td>NaN</td>\n",
       "      <td>NaN</td>\n",
       "    </tr>\n",
       "    <tr>\n",
       "      <th>231806</th>\n",
       "      <td>197134</td>\n",
       "      <td>4/8/2016 14:25</td>\n",
       "      <td>4/8/2016 22:24</td>\n",
       "      <td>SEA00085</td>\n",
       "      <td>28779.864</td>\n",
       "      <td>3rd Ave &amp; Broad St</td>\n",
       "      <td>15th Ave E &amp; E Thomas St</td>\n",
       "      <td>BT-01</td>\n",
       "      <td>CH-05</td>\n",
       "      <td>Short-Term Pass Holder</td>\n",
       "      <td>NaN</td>\n",
       "      <td>NaN</td>\n",
       "    </tr>\n",
       "    <tr>\n",
       "      <th>154789</th>\n",
       "      <td>115593</td>\n",
       "      <td>7/24/2015 17:22</td>\n",
       "      <td>7/25/2015 1:21</td>\n",
       "      <td>SEA00098</td>\n",
       "      <td>28727.481</td>\n",
       "      <td>E Harrison St &amp; Broadway Ave E</td>\n",
       "      <td>E Harrison St &amp; Broadway Ave E</td>\n",
       "      <td>CH-02</td>\n",
       "      <td>CH-02</td>\n",
       "      <td>Short-Term Pass Holder</td>\n",
       "      <td>NaN</td>\n",
       "      <td>NaN</td>\n",
       "    </tr>\n",
       "    <tr>\n",
       "      <th>63052</th>\n",
       "      <td>15191</td>\n",
       "      <td>11/19/2014 9:23</td>\n",
       "      <td>11/19/2014 17:21</td>\n",
       "      <td>SEA00401</td>\n",
       "      <td>28690.725</td>\n",
       "      <td>Key Arena / 1st Ave N &amp; Harrison St</td>\n",
       "      <td>Key Arena / 1st Ave N &amp; Harrison St</td>\n",
       "      <td>SLU-19</td>\n",
       "      <td>SLU-19</td>\n",
       "      <td>Short-Term Pass Holder</td>\n",
       "      <td>NaN</td>\n",
       "      <td>NaN</td>\n",
       "    </tr>\n",
       "    <tr>\n",
       "      <th>12260</th>\n",
       "      <td>15191</td>\n",
       "      <td>11/19/2014 9:23</td>\n",
       "      <td>11/19/2014 17:21</td>\n",
       "      <td>SEA00401</td>\n",
       "      <td>28690.725</td>\n",
       "      <td>Key Arena / 1st Ave N &amp; Harrison St</td>\n",
       "      <td>Key Arena / 1st Ave N &amp; Harrison St</td>\n",
       "      <td>SLU-19</td>\n",
       "      <td>SLU-19</td>\n",
       "      <td>Short-Term Pass Holder</td>\n",
       "      <td>NaN</td>\n",
       "      <td>NaN</td>\n",
       "    </tr>\n",
       "  </tbody>\n",
       "</table>\n",
       "</div>"
      ],
      "text/plain": [
       "        trip_id        starttime          stoptime    bikeid  tripduration  \\\n",
       "163148   124491   8/7/2015 17:53     8/8/2015 1:53  SEA00420     28794.398   \n",
       "231806   197134   4/8/2016 14:25    4/8/2016 22:24  SEA00085     28779.864   \n",
       "154789   115593  7/24/2015 17:22    7/25/2015 1:21  SEA00098     28727.481   \n",
       "63052     15191  11/19/2014 9:23  11/19/2014 17:21  SEA00401     28690.725   \n",
       "12260     15191  11/19/2014 9:23  11/19/2014 17:21  SEA00401     28690.725   \n",
       "\n",
       "                          from_station_name  \\\n",
       "163148        Eastlake Ave E & E Allison St   \n",
       "231806                   3rd Ave & Broad St   \n",
       "154789       E Harrison St & Broadway Ave E   \n",
       "63052   Key Arena / 1st Ave N & Harrison St   \n",
       "12260   Key Arena / 1st Ave N & Harrison St   \n",
       "\n",
       "                            to_station_name from_station_id to_station_id  \\\n",
       "163148                    2nd Ave & Pine St           EL-05        CBD-13   \n",
       "231806             15th Ave E & E Thomas St           BT-01         CH-05   \n",
       "154789       E Harrison St & Broadway Ave E           CH-02         CH-02   \n",
       "63052   Key Arena / 1st Ave N & Harrison St          SLU-19        SLU-19   \n",
       "12260   Key Arena / 1st Ave N & Harrison St          SLU-19        SLU-19   \n",
       "\n",
       "                      usertype gender  birthyear  \n",
       "163148  Short-Term Pass Holder    NaN        NaN  \n",
       "231806  Short-Term Pass Holder    NaN        NaN  \n",
       "154789  Short-Term Pass Holder    NaN        NaN  \n",
       "63052   Short-Term Pass Holder    NaN        NaN  \n",
       "12260   Short-Term Pass Holder    NaN        NaN  "
      ]
     },
     "execution_count": 32,
     "metadata": {},
     "output_type": "execute_result"
    }
   ],
   "source": [
    "longest_trips = trip.sort_values(by='tripduration', ascending=False).head(5)\n",
    "longest_trips\n"
   ]
  },
  {
   "cell_type": "code",
   "execution_count": null,
   "metadata": {},
   "outputs": [],
   "source": []
  }
 ],
 "metadata": {
  "kernelspec": {
   "display_name": "Python 3",
   "language": "python",
   "name": "python3"
  },
  "language_info": {
   "codemirror_mode": {
    "name": "ipython",
    "version": 3
   },
   "file_extension": ".py",
   "mimetype": "text/x-python",
   "name": "python",
   "nbconvert_exporter": "python",
   "pygments_lexer": "ipython3",
   "version": "3.8.5-final"
  }
 },
 "nbformat": 4,
 "nbformat_minor": 4
}